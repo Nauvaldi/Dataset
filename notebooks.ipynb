{
  "cells": [
    {
      "cell_type": "markdown",
      "metadata": {
        "id": "view-in-github",
        "colab_type": "text"
      },
      "source": [
        "<a href=\"https://colab.research.google.com/github/Nauvaldi/Dataset/blob/main/notebooks.ipynb\" target=\"_parent\"><img src=\"https://colab.research.google.com/assets/colab-badge.svg\" alt=\"Open In Colab\"/></a>"
      ]
    },
    {
      "cell_type": "markdown",
      "metadata": {
        "id": "bjzKamsOSJ7U"
      },
      "source": [
        "# Content with notebooks\n",
        "\n",
        "You can also create content with Jupyter Notebooks. This means that you can include\n",
        "code blocks and their outputs in your book.\n",
        "\n",
        "## Markdown + notebooks\n",
        "\n",
        "As it is markdown, you can embed images, HTML, etc into your posts!\n",
        "\n",
        "![](https://myst-parser.readthedocs.io/en/latest/_static/logo-wide.svg)\n",
        "\n",
        "You can also $add_{math}$ and\n",
        "\n",
        "$$\n",
        "math^{blocks}\n",
        "$$\n",
        "\n",
        "or\n",
        "\n",
        "$$\n",
        "\\begin{aligned}\n",
        "\\mbox{mean} la_{tex} \\\\ \\\\\n",
        "math blocks\n",
        "\\end{aligned}\n",
        "$$\n",
        "\n",
        "But make sure you \\$Escape \\$your \\$dollar signs \\$you want to keep!\n",
        "\n",
        "## MyST markdown\n",
        "\n",
        "MyST markdown works in Jupyter Notebooks as well. For more information about MyST markdown, check\n",
        "out [the MyST guide in Jupyter Book](https://jupyterbook.org/content/myst.html),\n",
        "or see [the MyST markdown documentation](https://myst-parser.readthedocs.io/en/latest/).\n",
        "\n",
        "## Code blocks and outputs\n",
        "\n",
        "Jupyter Book will also embed your code blocks and output in your book.\n",
        "For example, here's some sample Matplotlib code:"
      ]
    },
    {
      "cell_type": "code",
      "execution_count": null,
      "metadata": {
        "id": "lVmg5GfTSJ7a"
      },
      "outputs": [],
      "source": [
        "from matplotlib import rcParams, cycler\n",
        "import matplotlib.pyplot as plt\n",
        "import numpy as np\n",
        "plt.ion()"
      ]
    },
    {
      "cell_type": "code",
      "execution_count": null,
      "metadata": {
        "id": "h8b5oANVSJ7b"
      },
      "outputs": [],
      "source": [
        "# Fixing random state for reproducibility\n",
        "np.random.seed(19680801)\n",
        "\n",
        "N = 10\n",
        "data = [np.logspace(0, 1, 100) + np.random.randn(100) + ii for ii in range(N)]\n",
        "data = np.array(data).T\n",
        "cmap = plt.cm.coolwarm\n",
        "rcParams['axes.prop_cycle'] = cycler(color=cmap(np.linspace(0, 1, N)))\n",
        "\n",
        "\n",
        "from matplotlib.lines import Line2D\n",
        "custom_lines = [Line2D([0], [0], color=cmap(0.), lw=4),\n",
        "                Line2D([0], [0], color=cmap(.5), lw=4),\n",
        "                Line2D([0], [0], color=cmap(1.), lw=4)]\n",
        "\n",
        "fig, ax = plt.subplots(figsize=(10, 5))\n",
        "lines = ax.plot(data)\n",
        "ax.legend(custom_lines, ['Cold', 'Medium', 'Hot']);"
      ]
    },
    {
      "cell_type": "markdown",
      "metadata": {
        "id": "ttNduXMnSJ7c"
      },
      "source": [
        "There is a lot more that you can do with outputs (such as including interactive outputs)\n",
        "with your book. For more information about this, see [the Jupyter Book documentation](https://jupyterbook.org)"
      ]
    },
    {
      "cell_type": "markdown",
      "source": [
        "# Tugas 1\n"
      ],
      "metadata": {
        "id": "OctVjw63gnfF"
      }
    },
    {
      "cell_type": "code",
      "source": [
        "import pandas as pd\n",
        "import numpy as np"
      ],
      "metadata": {
        "id": "Nh09PT5o7cu1"
      },
      "execution_count": null,
      "outputs": []
    },
    {
      "cell_type": "code",
      "source": [
        "# Create dataset from Google Drive\n",
        "dataset_url = \"https://raw.githubusercontent.com/Nauvaldi/Dataset/main/test.csv\"\n",
        "df = pd.read_csv(dataset_url)\n",
        "df\n"
      ],
      "metadata": {
        "id": "ReaHW0Sb9nN4"
      },
      "execution_count": null,
      "outputs": []
    },
    {
      "cell_type": "code",
      "source": [
        "# Show dataset shape\n",
        "number_of_columns = df.shape[1]"
      ],
      "metadata": {
        "id": "ENqhFeYcBt9G"
      },
      "execution_count": null,
      "outputs": []
    },
    {
      "cell_type": "code",
      "source": [
        "# Show all columns for dataset\n",
        "pd.set_option('display.max_columns', number_of_columns)\n",
        "pd.set_option('display.max_rows', number_of_columns)"
      ],
      "metadata": {
        "id": "e2_sHV9R-NCt"
      },
      "execution_count": null,
      "outputs": []
    },
    {
      "cell_type": "code",
      "source": [
        "# Show all columns from dataframe\n",
        "df.columns"
      ],
      "metadata": {
        "colab": {
          "base_uri": "https://localhost:8080/"
        },
        "id": "WKEf2Q-YDFDD",
        "outputId": "8e6a7609-d39e-40a6-ed0e-55e2667e2b6e"
      },
      "execution_count": null,
      "outputs": [
        {
          "output_type": "execute_result",
          "data": {
            "text/plain": [
              "Index(['Age', 'BusinessTravel', 'DailyRate', 'Department', 'DistanceFromHome',\n",
              "       'Education', 'EducationField', 'EmployeeCount', 'EmployeeNumber',\n",
              "       'EnvironmentSatisfaction', 'Gender', 'HourlyRate', 'JobInvolvement',\n",
              "       'JobLevel', 'JobRole', 'JobSatisfaction', 'MaritalStatus',\n",
              "       'MonthlyIncome', 'MonthlyRate', 'NumCompaniesWorked', 'Over18',\n",
              "       'OverTime', 'PercentSalaryHike', 'PerformanceRating',\n",
              "       'RelationshipSatisfaction', 'StandardHours', 'StockOptionLevel',\n",
              "       'TotalWorkingYears', 'TrainingTimesLastYear', 'WorkLifeBalance',\n",
              "       'YearsAtCompany', 'YearsInCurrentRole', 'YearsSinceLastPromotion',\n",
              "       'YearsWithCurrManager'],\n",
              "      dtype='object')"
            ]
          },
          "metadata": {},
          "execution_count": 5
        }
      ]
    },
    {
      "cell_type": "markdown",
      "source": [
        "**Data Asimetris Biner**\n",
        "\n",
        "-Over18\n",
        "\n",
        "-OverTime"
      ],
      "metadata": {
        "id": "c3mCWkWQGMF2"
      }
    },
    {
      "cell_type": "code",
      "source": [
        "df[[\"Over18\", \"OverTime\"]].head(5)"
      ],
      "metadata": {
        "id": "Wex4q95aGdTe"
      },
      "execution_count": null,
      "outputs": []
    },
    {
      "cell_type": "markdown",
      "source": [
        "## **Ubah Value ke 0/1**\n",
        "\n",
        "Jika Yes/Y = 1\n",
        "\n",
        "Jika No/N = 0"
      ],
      "metadata": {
        "id": "b-Br4lv1Knem"
      }
    },
    {
      "cell_type": "code",
      "source": [
        "# Over18 code\n",
        "over18_for_yes = \"Y\"\n",
        "over18_for_no = \"N\"\n",
        "\n",
        "# binary value\n",
        "value_of_one = 1\n",
        "value_of_zero = 0\n",
        "\n",
        "def change_code_over18_to_biner(Over18):\n",
        "    return value_of_one if Over18 == over18_for_yes else value_of_zero"
      ],
      "metadata": {
        "id": "sLlRsddFKx_M"
      },
      "execution_count": null,
      "outputs": []
    },
    {
      "cell_type": "code",
      "source": [
        "# Update all values of 'Over18' series\n",
        "df[\"Over18\"] = df[\"Over18\"].apply(change_code_over18_to_biner)"
      ],
      "metadata": {
        "id": "2pNVRRuULlc3"
      },
      "execution_count": null,
      "outputs": []
    },
    {
      "cell_type": "code",
      "source": [
        "# Overtime code\n",
        "overtime_for_yes = \"Yes\"\n",
        "overtime_for_no = \"N0\"\n",
        "\n",
        "# binary value\n",
        "value_of_one = 1\n",
        "value_of_zero = 0\n",
        "\n",
        "def change_code_overtime_to_biner(OverTime):\n",
        "    return value_of_one if OverTime == overtime_for_yes else value_of_zero"
      ],
      "metadata": {
        "id": "04w5Y5bAL4eO"
      },
      "execution_count": null,
      "outputs": []
    },
    {
      "cell_type": "code",
      "source": [
        "# Update all values of 'OverTime' series\n",
        "df[\"OverTime\"] = df[\"OverTime\"].apply(change_code_overtime_to_biner)"
      ],
      "metadata": {
        "id": "xp1qe2YnMPUD"
      },
      "execution_count": null,
      "outputs": []
    },
    {
      "cell_type": "code",
      "source": [
        "df[[\"Over18\", \"OverTime\"]].head(5)"
      ],
      "metadata": {
        "colab": {
          "base_uri": "https://localhost:8080/",
          "height": 206
        },
        "id": "uuGW4_sWMXbW",
        "outputId": "d42b7e74-276d-495c-b344-70283a574bcd"
      },
      "execution_count": null,
      "outputs": [
        {
          "output_type": "execute_result",
          "data": {
            "text/plain": [
              "   Over18  OverTime\n",
              "0       1         1\n",
              "1       1         0\n",
              "2       1         1\n",
              "3       1         0\n",
              "4       1         1"
            ],
            "text/html": [
              "\n",
              "  <div id=\"df-8ab20ae1-bcd7-4780-bfa3-78e7cd8d6acb\">\n",
              "    <div class=\"colab-df-container\">\n",
              "      <div>\n",
              "<style scoped>\n",
              "    .dataframe tbody tr th:only-of-type {\n",
              "        vertical-align: middle;\n",
              "    }\n",
              "\n",
              "    .dataframe tbody tr th {\n",
              "        vertical-align: top;\n",
              "    }\n",
              "\n",
              "    .dataframe thead th {\n",
              "        text-align: right;\n",
              "    }\n",
              "</style>\n",
              "<table border=\"1\" class=\"dataframe\">\n",
              "  <thead>\n",
              "    <tr style=\"text-align: right;\">\n",
              "      <th></th>\n",
              "      <th>Over18</th>\n",
              "      <th>OverTime</th>\n",
              "    </tr>\n",
              "  </thead>\n",
              "  <tbody>\n",
              "    <tr>\n",
              "      <th>0</th>\n",
              "      <td>1</td>\n",
              "      <td>1</td>\n",
              "    </tr>\n",
              "    <tr>\n",
              "      <th>1</th>\n",
              "      <td>1</td>\n",
              "      <td>0</td>\n",
              "    </tr>\n",
              "    <tr>\n",
              "      <th>2</th>\n",
              "      <td>1</td>\n",
              "      <td>1</td>\n",
              "    </tr>\n",
              "    <tr>\n",
              "      <th>3</th>\n",
              "      <td>1</td>\n",
              "      <td>0</td>\n",
              "    </tr>\n",
              "    <tr>\n",
              "      <th>4</th>\n",
              "      <td>1</td>\n",
              "      <td>1</td>\n",
              "    </tr>\n",
              "  </tbody>\n",
              "</table>\n",
              "</div>\n",
              "      <button class=\"colab-df-convert\" onclick=\"convertToInteractive('df-8ab20ae1-bcd7-4780-bfa3-78e7cd8d6acb')\"\n",
              "              title=\"Convert this dataframe to an interactive table.\"\n",
              "              style=\"display:none;\">\n",
              "        \n",
              "  <svg xmlns=\"http://www.w3.org/2000/svg\" height=\"24px\"viewBox=\"0 0 24 24\"\n",
              "       width=\"24px\">\n",
              "    <path d=\"M0 0h24v24H0V0z\" fill=\"none\"/>\n",
              "    <path d=\"M18.56 5.44l.94 2.06.94-2.06 2.06-.94-2.06-.94-.94-2.06-.94 2.06-2.06.94zm-11 1L8.5 8.5l.94-2.06 2.06-.94-2.06-.94L8.5 2.5l-.94 2.06-2.06.94zm10 10l.94 2.06.94-2.06 2.06-.94-2.06-.94-.94-2.06-.94 2.06-2.06.94z\"/><path d=\"M17.41 7.96l-1.37-1.37c-.4-.4-.92-.59-1.43-.59-.52 0-1.04.2-1.43.59L10.3 9.45l-7.72 7.72c-.78.78-.78 2.05 0 2.83L4 21.41c.39.39.9.59 1.41.59.51 0 1.02-.2 1.41-.59l7.78-7.78 2.81-2.81c.8-.78.8-2.07 0-2.86zM5.41 20L4 18.59l7.72-7.72 1.47 1.35L5.41 20z\"/>\n",
              "  </svg>\n",
              "      </button>\n",
              "      \n",
              "  <style>\n",
              "    .colab-df-container {\n",
              "      display:flex;\n",
              "      flex-wrap:wrap;\n",
              "      gap: 12px;\n",
              "    }\n",
              "\n",
              "    .colab-df-convert {\n",
              "      background-color: #E8F0FE;\n",
              "      border: none;\n",
              "      border-radius: 50%;\n",
              "      cursor: pointer;\n",
              "      display: none;\n",
              "      fill: #1967D2;\n",
              "      height: 32px;\n",
              "      padding: 0 0 0 0;\n",
              "      width: 32px;\n",
              "    }\n",
              "\n",
              "    .colab-df-convert:hover {\n",
              "      background-color: #E2EBFA;\n",
              "      box-shadow: 0px 1px 2px rgba(60, 64, 67, 0.3), 0px 1px 3px 1px rgba(60, 64, 67, 0.15);\n",
              "      fill: #174EA6;\n",
              "    }\n",
              "\n",
              "    [theme=dark] .colab-df-convert {\n",
              "      background-color: #3B4455;\n",
              "      fill: #D2E3FC;\n",
              "    }\n",
              "\n",
              "    [theme=dark] .colab-df-convert:hover {\n",
              "      background-color: #434B5C;\n",
              "      box-shadow: 0px 1px 3px 1px rgba(0, 0, 0, 0.15);\n",
              "      filter: drop-shadow(0px 1px 2px rgba(0, 0, 0, 0.3));\n",
              "      fill: #FFFFFF;\n",
              "    }\n",
              "  </style>\n",
              "\n",
              "      <script>\n",
              "        const buttonEl =\n",
              "          document.querySelector('#df-8ab20ae1-bcd7-4780-bfa3-78e7cd8d6acb button.colab-df-convert');\n",
              "        buttonEl.style.display =\n",
              "          google.colab.kernel.accessAllowed ? 'block' : 'none';\n",
              "\n",
              "        async function convertToInteractive(key) {\n",
              "          const element = document.querySelector('#df-8ab20ae1-bcd7-4780-bfa3-78e7cd8d6acb');\n",
              "          const dataTable =\n",
              "            await google.colab.kernel.invokeFunction('convertToInteractive',\n",
              "                                                     [key], {});\n",
              "          if (!dataTable) return;\n",
              "\n",
              "          const docLinkHtml = 'Like what you see? Visit the ' +\n",
              "            '<a target=\"_blank\" href=https://colab.research.google.com/notebooks/data_table.ipynb>data table notebook</a>'\n",
              "            + ' to learn more about interactive tables.';\n",
              "          element.innerHTML = '';\n",
              "          dataTable['output_type'] = 'display_data';\n",
              "          await google.colab.output.renderOutput(dataTable, element);\n",
              "          const docLink = document.createElement('div');\n",
              "          docLink.innerHTML = docLinkHtml;\n",
              "          element.appendChild(docLink);\n",
              "        }\n",
              "      </script>\n",
              "    </div>\n",
              "  </div>\n",
              "  "
            ]
          },
          "metadata": {},
          "execution_count": 11
        }
      ]
    },
    {
      "cell_type": "code",
      "source": [
        "# CONSTAN VARIABLE\n",
        "DECREMENT_BY_ONE = 1\n",
        "INCREMENT_BY_ONE = 1\n",
        "\n",
        "CONTINGENCY_TABLE_VALUE = {\n",
        "    \"q\" : (1,1),\n",
        "    \"r\" : (1,0),\n",
        "    \"s\" : (0,1),\n",
        "    \"t\" : (0,0),\n",
        "}"
      ],
      "metadata": {
        "id": "SSN2L3TCMjE1"
      },
      "execution_count": null,
      "outputs": []
    },
    {
      "cell_type": "code",
      "source": [
        "def get_series(df, idx, series):\n",
        "    return df.loc[(idx), series]"
      ],
      "metadata": {
        "id": "U5S-2WY0MmK3"
      },
      "execution_count": null,
      "outputs": []
    },
    {
      "cell_type": "code",
      "source": [
        "def get_dissimilarity_dataset(df, series_index = [], series = []):\n",
        "    first_series = get_series(df, series_index[0], series)\n",
        "    second_series = get_series(df, series_index[1], series)\n",
        "    dataset = pd.concat([first_series,second_series],axis=1)\n",
        "    return dataset.T"
      ],
      "metadata": {
        "id": "jkn5EJ2uMm6T"
      },
      "execution_count": null,
      "outputs": []
    },
    {
      "cell_type": "code",
      "source": [
        "get_dissimilarity_dataset(df, [1,2], [\"Over18\", \"OverTime\"]).T"
      ],
      "metadata": {
        "colab": {
          "base_uri": "https://localhost:8080/",
          "height": 112
        },
        "id": "GQijOCCeMpnn",
        "outputId": "8ca2839b-02fc-48c0-e9ff-c7af9fe7e277"
      },
      "execution_count": null,
      "outputs": [
        {
          "output_type": "execute_result",
          "data": {
            "text/plain": [
              "          1  2\n",
              "Over18    1  1\n",
              "OverTime  0  1"
            ],
            "text/html": [
              "\n",
              "  <div id=\"df-0bb2d555-d758-4758-b7bb-9a88020adf1c\">\n",
              "    <div class=\"colab-df-container\">\n",
              "      <div>\n",
              "<style scoped>\n",
              "    .dataframe tbody tr th:only-of-type {\n",
              "        vertical-align: middle;\n",
              "    }\n",
              "\n",
              "    .dataframe tbody tr th {\n",
              "        vertical-align: top;\n",
              "    }\n",
              "\n",
              "    .dataframe thead th {\n",
              "        text-align: right;\n",
              "    }\n",
              "</style>\n",
              "<table border=\"1\" class=\"dataframe\">\n",
              "  <thead>\n",
              "    <tr style=\"text-align: right;\">\n",
              "      <th></th>\n",
              "      <th>1</th>\n",
              "      <th>2</th>\n",
              "    </tr>\n",
              "  </thead>\n",
              "  <tbody>\n",
              "    <tr>\n",
              "      <th>Over18</th>\n",
              "      <td>1</td>\n",
              "      <td>1</td>\n",
              "    </tr>\n",
              "    <tr>\n",
              "      <th>OverTime</th>\n",
              "      <td>0</td>\n",
              "      <td>1</td>\n",
              "    </tr>\n",
              "  </tbody>\n",
              "</table>\n",
              "</div>\n",
              "      <button class=\"colab-df-convert\" onclick=\"convertToInteractive('df-0bb2d555-d758-4758-b7bb-9a88020adf1c')\"\n",
              "              title=\"Convert this dataframe to an interactive table.\"\n",
              "              style=\"display:none;\">\n",
              "        \n",
              "  <svg xmlns=\"http://www.w3.org/2000/svg\" height=\"24px\"viewBox=\"0 0 24 24\"\n",
              "       width=\"24px\">\n",
              "    <path d=\"M0 0h24v24H0V0z\" fill=\"none\"/>\n",
              "    <path d=\"M18.56 5.44l.94 2.06.94-2.06 2.06-.94-2.06-.94-.94-2.06-.94 2.06-2.06.94zm-11 1L8.5 8.5l.94-2.06 2.06-.94-2.06-.94L8.5 2.5l-.94 2.06-2.06.94zm10 10l.94 2.06.94-2.06 2.06-.94-2.06-.94-.94-2.06-.94 2.06-2.06.94z\"/><path d=\"M17.41 7.96l-1.37-1.37c-.4-.4-.92-.59-1.43-.59-.52 0-1.04.2-1.43.59L10.3 9.45l-7.72 7.72c-.78.78-.78 2.05 0 2.83L4 21.41c.39.39.9.59 1.41.59.51 0 1.02-.2 1.41-.59l7.78-7.78 2.81-2.81c.8-.78.8-2.07 0-2.86zM5.41 20L4 18.59l7.72-7.72 1.47 1.35L5.41 20z\"/>\n",
              "  </svg>\n",
              "      </button>\n",
              "      \n",
              "  <style>\n",
              "    .colab-df-container {\n",
              "      display:flex;\n",
              "      flex-wrap:wrap;\n",
              "      gap: 12px;\n",
              "    }\n",
              "\n",
              "    .colab-df-convert {\n",
              "      background-color: #E8F0FE;\n",
              "      border: none;\n",
              "      border-radius: 50%;\n",
              "      cursor: pointer;\n",
              "      display: none;\n",
              "      fill: #1967D2;\n",
              "      height: 32px;\n",
              "      padding: 0 0 0 0;\n",
              "      width: 32px;\n",
              "    }\n",
              "\n",
              "    .colab-df-convert:hover {\n",
              "      background-color: #E2EBFA;\n",
              "      box-shadow: 0px 1px 2px rgba(60, 64, 67, 0.3), 0px 1px 3px 1px rgba(60, 64, 67, 0.15);\n",
              "      fill: #174EA6;\n",
              "    }\n",
              "\n",
              "    [theme=dark] .colab-df-convert {\n",
              "      background-color: #3B4455;\n",
              "      fill: #D2E3FC;\n",
              "    }\n",
              "\n",
              "    [theme=dark] .colab-df-convert:hover {\n",
              "      background-color: #434B5C;\n",
              "      box-shadow: 0px 1px 3px 1px rgba(0, 0, 0, 0.15);\n",
              "      filter: drop-shadow(0px 1px 2px rgba(0, 0, 0, 0.3));\n",
              "      fill: #FFFFFF;\n",
              "    }\n",
              "  </style>\n",
              "\n",
              "      <script>\n",
              "        const buttonEl =\n",
              "          document.querySelector('#df-0bb2d555-d758-4758-b7bb-9a88020adf1c button.colab-df-convert');\n",
              "        buttonEl.style.display =\n",
              "          google.colab.kernel.accessAllowed ? 'block' : 'none';\n",
              "\n",
              "        async function convertToInteractive(key) {\n",
              "          const element = document.querySelector('#df-0bb2d555-d758-4758-b7bb-9a88020adf1c');\n",
              "          const dataTable =\n",
              "            await google.colab.kernel.invokeFunction('convertToInteractive',\n",
              "                                                     [key], {});\n",
              "          if (!dataTable) return;\n",
              "\n",
              "          const docLinkHtml = 'Like what you see? Visit the ' +\n",
              "            '<a target=\"_blank\" href=https://colab.research.google.com/notebooks/data_table.ipynb>data table notebook</a>'\n",
              "            + ' to learn more about interactive tables.';\n",
              "          element.innerHTML = '';\n",
              "          dataTable['output_type'] = 'display_data';\n",
              "          await google.colab.output.renderOutput(dataTable, element);\n",
              "          const docLink = document.createElement('div');\n",
              "          docLink.innerHTML = docLinkHtml;\n",
              "          element.appendChild(docLink);\n",
              "        }\n",
              "      </script>\n",
              "    </div>\n",
              "  </div>\n",
              "  "
            ]
          },
          "metadata": {},
          "execution_count": 15
        }
      ]
    },
    {
      "cell_type": "code",
      "source": [
        "df.loc[0:5, [\"Over18\", \"OverTime\"]]"
      ],
      "metadata": {
        "colab": {
          "base_uri": "https://localhost:8080/",
          "height": 238
        },
        "id": "w9ty1nJCMrO2",
        "outputId": "eb70dab1-c69b-4765-a9ee-d693c69e637c"
      },
      "execution_count": null,
      "outputs": [
        {
          "output_type": "execute_result",
          "data": {
            "text/plain": [
              "   Over18  OverTime\n",
              "0       1         1\n",
              "1       1         0\n",
              "2       1         1\n",
              "3       1         0\n",
              "4       1         1\n",
              "5       1         0"
            ],
            "text/html": [
              "\n",
              "  <div id=\"df-97af50b8-45a2-48f0-8b0d-7b4a94d0be78\">\n",
              "    <div class=\"colab-df-container\">\n",
              "      <div>\n",
              "<style scoped>\n",
              "    .dataframe tbody tr th:only-of-type {\n",
              "        vertical-align: middle;\n",
              "    }\n",
              "\n",
              "    .dataframe tbody tr th {\n",
              "        vertical-align: top;\n",
              "    }\n",
              "\n",
              "    .dataframe thead th {\n",
              "        text-align: right;\n",
              "    }\n",
              "</style>\n",
              "<table border=\"1\" class=\"dataframe\">\n",
              "  <thead>\n",
              "    <tr style=\"text-align: right;\">\n",
              "      <th></th>\n",
              "      <th>Over18</th>\n",
              "      <th>OverTime</th>\n",
              "    </tr>\n",
              "  </thead>\n",
              "  <tbody>\n",
              "    <tr>\n",
              "      <th>0</th>\n",
              "      <td>1</td>\n",
              "      <td>1</td>\n",
              "    </tr>\n",
              "    <tr>\n",
              "      <th>1</th>\n",
              "      <td>1</td>\n",
              "      <td>0</td>\n",
              "    </tr>\n",
              "    <tr>\n",
              "      <th>2</th>\n",
              "      <td>1</td>\n",
              "      <td>1</td>\n",
              "    </tr>\n",
              "    <tr>\n",
              "      <th>3</th>\n",
              "      <td>1</td>\n",
              "      <td>0</td>\n",
              "    </tr>\n",
              "    <tr>\n",
              "      <th>4</th>\n",
              "      <td>1</td>\n",
              "      <td>1</td>\n",
              "    </tr>\n",
              "    <tr>\n",
              "      <th>5</th>\n",
              "      <td>1</td>\n",
              "      <td>0</td>\n",
              "    </tr>\n",
              "  </tbody>\n",
              "</table>\n",
              "</div>\n",
              "      <button class=\"colab-df-convert\" onclick=\"convertToInteractive('df-97af50b8-45a2-48f0-8b0d-7b4a94d0be78')\"\n",
              "              title=\"Convert this dataframe to an interactive table.\"\n",
              "              style=\"display:none;\">\n",
              "        \n",
              "  <svg xmlns=\"http://www.w3.org/2000/svg\" height=\"24px\"viewBox=\"0 0 24 24\"\n",
              "       width=\"24px\">\n",
              "    <path d=\"M0 0h24v24H0V0z\" fill=\"none\"/>\n",
              "    <path d=\"M18.56 5.44l.94 2.06.94-2.06 2.06-.94-2.06-.94-.94-2.06-.94 2.06-2.06.94zm-11 1L8.5 8.5l.94-2.06 2.06-.94-2.06-.94L8.5 2.5l-.94 2.06-2.06.94zm10 10l.94 2.06.94-2.06 2.06-.94-2.06-.94-.94-2.06-.94 2.06-2.06.94z\"/><path d=\"M17.41 7.96l-1.37-1.37c-.4-.4-.92-.59-1.43-.59-.52 0-1.04.2-1.43.59L10.3 9.45l-7.72 7.72c-.78.78-.78 2.05 0 2.83L4 21.41c.39.39.9.59 1.41.59.51 0 1.02-.2 1.41-.59l7.78-7.78 2.81-2.81c.8-.78.8-2.07 0-2.86zM5.41 20L4 18.59l7.72-7.72 1.47 1.35L5.41 20z\"/>\n",
              "  </svg>\n",
              "      </button>\n",
              "      \n",
              "  <style>\n",
              "    .colab-df-container {\n",
              "      display:flex;\n",
              "      flex-wrap:wrap;\n",
              "      gap: 12px;\n",
              "    }\n",
              "\n",
              "    .colab-df-convert {\n",
              "      background-color: #E8F0FE;\n",
              "      border: none;\n",
              "      border-radius: 50%;\n",
              "      cursor: pointer;\n",
              "      display: none;\n",
              "      fill: #1967D2;\n",
              "      height: 32px;\n",
              "      padding: 0 0 0 0;\n",
              "      width: 32px;\n",
              "    }\n",
              "\n",
              "    .colab-df-convert:hover {\n",
              "      background-color: #E2EBFA;\n",
              "      box-shadow: 0px 1px 2px rgba(60, 64, 67, 0.3), 0px 1px 3px 1px rgba(60, 64, 67, 0.15);\n",
              "      fill: #174EA6;\n",
              "    }\n",
              "\n",
              "    [theme=dark] .colab-df-convert {\n",
              "      background-color: #3B4455;\n",
              "      fill: #D2E3FC;\n",
              "    }\n",
              "\n",
              "    [theme=dark] .colab-df-convert:hover {\n",
              "      background-color: #434B5C;\n",
              "      box-shadow: 0px 1px 3px 1px rgba(0, 0, 0, 0.15);\n",
              "      filter: drop-shadow(0px 1px 2px rgba(0, 0, 0, 0.3));\n",
              "      fill: #FFFFFF;\n",
              "    }\n",
              "  </style>\n",
              "\n",
              "      <script>\n",
              "        const buttonEl =\n",
              "          document.querySelector('#df-97af50b8-45a2-48f0-8b0d-7b4a94d0be78 button.colab-df-convert');\n",
              "        buttonEl.style.display =\n",
              "          google.colab.kernel.accessAllowed ? 'block' : 'none';\n",
              "\n",
              "        async function convertToInteractive(key) {\n",
              "          const element = document.querySelector('#df-97af50b8-45a2-48f0-8b0d-7b4a94d0be78');\n",
              "          const dataTable =\n",
              "            await google.colab.kernel.invokeFunction('convertToInteractive',\n",
              "                                                     [key], {});\n",
              "          if (!dataTable) return;\n",
              "\n",
              "          const docLinkHtml = 'Like what you see? Visit the ' +\n",
              "            '<a target=\"_blank\" href=https://colab.research.google.com/notebooks/data_table.ipynb>data table notebook</a>'\n",
              "            + ' to learn more about interactive tables.';\n",
              "          element.innerHTML = '';\n",
              "          dataTable['output_type'] = 'display_data';\n",
              "          await google.colab.output.renderOutput(dataTable, element);\n",
              "          const docLink = document.createElement('div');\n",
              "          docLink.innerHTML = docLinkHtml;\n",
              "          element.appendChild(docLink);\n",
              "        }\n",
              "      </script>\n",
              "    </div>\n",
              "  </div>\n",
              "  "
            ]
          },
          "metadata": {},
          "execution_count": 16
        }
      ]
    },
    {
      "cell_type": "code",
      "source": [
        "def count_contingency_value(df, start_index = 0, last_index = 1):\n",
        "\n",
        "    CONTINGENCY_VALUE = {\n",
        "        \"q\" : 0,\n",
        "        \"r\" : 0,\n",
        "        \"s\" : 0,\n",
        "        \"t\" : 0,\n",
        "    }\n",
        "\n",
        "    column_range = df.shape[1]\n",
        "\n",
        "    for column in range(column_range):\n",
        "        for value in CONTINGENCY_TABLE_VALUE:\n",
        "            item = list((tuple(df.loc[(start_index):(last_index), df.columns[column]]) == CONTINGENCY_TABLE_VALUE[value], value))\n",
        "            if item[0] == True:\n",
        "                if item[1] == \"q\":\n",
        "                    CONTINGENCY_VALUE[\"q\"] += 1\n",
        "                if item[1] == \"r\":\n",
        "                    CONTINGENCY_VALUE[\"r\"] += 1\n",
        "                if item[1] == \"s\":\n",
        "                    CONTINGENCY_VALUE[\"s\"] += 1\n",
        "                if item[1] == \"t\":\n",
        "                    CONTINGENCY_VALUE[\"t\"] += 1\n",
        "\n",
        "    return CONTINGENCY_VALUE"
      ],
      "metadata": {
        "id": "cMIZ17pQM5Z3"
      },
      "execution_count": null,
      "outputs": []
    },
    {
      "cell_type": "code",
      "source": [
        "# d(1,2)\n",
        "df_1_2 = get_dissimilarity_dataset(df, [1,2], [\"Over18\",\"OverTime\"])"
      ],
      "metadata": {
        "id": "v6RN685tM5gY"
      },
      "execution_count": null,
      "outputs": []
    },
    {
      "cell_type": "code",
      "source": [
        "c_d_1_2 = count_contingency_value(df_1_2, 1, 2)"
      ],
      "metadata": {
        "id": "DQhKQQ3XNH_C"
      },
      "execution_count": null,
      "outputs": []
    },
    {
      "cell_type": "code",
      "source": [
        "# d(1,3)\n",
        "df_1_3 = get_dissimilarity_dataset(df, [1,3], [\"Over18\",\"OverTime\"])"
      ],
      "metadata": {
        "id": "yp73GKy0NIIT"
      },
      "execution_count": null,
      "outputs": []
    },
    {
      "cell_type": "code",
      "source": [
        "c_d_1_3 = count_contingency_value(df_1_3, 1, 3)"
      ],
      "metadata": {
        "id": "Ntv39LEZNOhj"
      },
      "execution_count": null,
      "outputs": []
    },
    {
      "cell_type": "code",
      "source": [
        "# d(1,4)\n",
        "df_1_4 = get_dissimilarity_dataset(df, [1,4], [\"Over18\",\"OverTime\"])"
      ],
      "metadata": {
        "id": "1XGi-Lt8NQj4"
      },
      "execution_count": null,
      "outputs": []
    },
    {
      "cell_type": "code",
      "source": [
        "c_d_1_4 = count_contingency_value(df_1_4, 1, 4)"
      ],
      "metadata": {
        "id": "fupR1U3MNVvc"
      },
      "execution_count": null,
      "outputs": []
    },
    {
      "cell_type": "code",
      "source": [
        "# d(1,5)\n",
        "df_1_5 = get_dissimilarity_dataset(df, [1,5], [\"Over18\",\"OverTime\"])"
      ],
      "metadata": {
        "id": "m66vsAMTNXmy"
      },
      "execution_count": null,
      "outputs": []
    },
    {
      "cell_type": "code",
      "source": [
        "c_d_1_5 = count_contingency_value(df_1_5, 1, 5)"
      ],
      "metadata": {
        "id": "3-_2AJTfNcFS"
      },
      "execution_count": null,
      "outputs": []
    },
    {
      "cell_type": "markdown",
      "source": [
        "## Dissimilarity Binary Assymetric Value Formula\n",
        "\n",
        "\n",
        "      d(i,j) =  r + s\n",
        "              _________\n",
        "              q + r + s\n",
        "\n",
        "   "
      ],
      "metadata": {
        "id": "x_sm4wa2NftD"
      }
    },
    {
      "cell_type": "code",
      "source": [
        "def measure_dissimilarity_binary_value_assymetric_distance(contingency_value):\n",
        "\n",
        "    return (contingency_value[\"r\"] + contingency_value[\"s\"]) / (contingency_value[\"q\"] + contingency_value[\"r\"] + contingency_value[\"s\"])"
      ],
      "metadata": {
        "id": "SHAdmQQXOKZA"
      },
      "execution_count": null,
      "outputs": []
    },
    {
      "cell_type": "code",
      "source": [
        "d_1_2 = measure_dissimilarity_binary_value_assymetric_distance(c_d_1_2)\n",
        "d_1_3 = measure_dissimilarity_binary_value_assymetric_distance(c_d_1_3)\n",
        "d_1_4 = measure_dissimilarity_binary_value_assymetric_distance(c_d_1_4)\n",
        "d_1_5 = measure_dissimilarity_binary_value_assymetric_distance(c_d_1_5)"
      ],
      "metadata": {
        "id": "J3Q5S_fRONMG"
      },
      "execution_count": null,
      "outputs": []
    },
    {
      "cell_type": "code",
      "source": [
        "d_1_2"
      ],
      "metadata": {
        "colab": {
          "base_uri": "https://localhost:8080/"
        },
        "id": "GvqymWtBOfCb",
        "outputId": "e9f63cf2-4e1e-4245-f18f-8c9127527edd"
      },
      "execution_count": null,
      "outputs": [
        {
          "output_type": "execute_result",
          "data": {
            "text/plain": [
              "0.5"
            ]
          },
          "metadata": {},
          "execution_count": 28
        }
      ]
    },
    {
      "cell_type": "code",
      "source": [
        "d_1_3"
      ],
      "metadata": {
        "colab": {
          "base_uri": "https://localhost:8080/"
        },
        "id": "h57q2Ng_Ogg2",
        "outputId": "8f5584a5-b716-4f72-f30f-95582105901c"
      },
      "execution_count": null,
      "outputs": [
        {
          "output_type": "execute_result",
          "data": {
            "text/plain": [
              "0.0"
            ]
          },
          "metadata": {},
          "execution_count": 29
        }
      ]
    },
    {
      "cell_type": "code",
      "source": [
        "d_1_4"
      ],
      "metadata": {
        "colab": {
          "base_uri": "https://localhost:8080/"
        },
        "id": "9Cf61v5cOioW",
        "outputId": "964520ab-4f61-491d-a47e-00e7da98525e"
      },
      "execution_count": null,
      "outputs": [
        {
          "output_type": "execute_result",
          "data": {
            "text/plain": [
              "0.5"
            ]
          },
          "metadata": {},
          "execution_count": 30
        }
      ]
    },
    {
      "cell_type": "code",
      "source": [
        "d_1_5"
      ],
      "metadata": {
        "colab": {
          "base_uri": "https://localhost:8080/"
        },
        "id": "Ee65ihzQOkAC",
        "outputId": "175545b7-de6a-4b80-da0d-a1c774e82837"
      },
      "execution_count": null,
      "outputs": [
        {
          "output_type": "execute_result",
          "data": {
            "text/plain": [
              "0.0"
            ]
          },
          "metadata": {},
          "execution_count": 31
        }
      ]
    },
    {
      "cell_type": "markdown",
      "source": [
        "## Menghitung Jarak Data Numerik\n",
        "\n",
        "-Age, DistanceFromHome, TotalWorkingYears, YearsAtCompany, YearsInCurrentRole\n"
      ],
      "metadata": {
        "id": "xGo1iPonRiq2"
      }
    },
    {
      "cell_type": "code",
      "source": [
        "from scipy.spatial import distance_matrix"
      ],
      "metadata": {
        "id": "4y-9co9EWMX6"
      },
      "execution_count": null,
      "outputs": []
    },
    {
      "cell_type": "code",
      "source": [
        "df[[\"Age\",\"DistanceFromHome\",\"YearsInCurrentRole\",\"TotalWorkingYears\",\"YearsAtCompany\"]].head(5)"
      ],
      "metadata": {
        "id": "JBVW3nykUbfj"
      },
      "execution_count": null,
      "outputs": []
    },
    {
      "cell_type": "code",
      "source": [
        "data = pd.read_csv(dataset_url)\n",
        "df = pd.DataFrame(data,columns=  [\"Age\",\"DistanceFromHome\",\"YearsInCurrentRole\",\"TotalWorkingYears\",\"YearsAtCompany\"])\n",
        "df.head(5)"
      ],
      "metadata": {
        "id": "0rrjXtrWVVs9"
      },
      "execution_count": null,
      "outputs": []
    },
    {
      "cell_type": "code",
      "source": [
        "Distance_matrix = pd.DataFrame(distance_matrix(df.values,df.values),index = df.index,columns=[df.index])\n",
        "Distance_matrix.head(5)"
      ],
      "metadata": {
        "id": "7zwyPNYyZfDP"
      },
      "execution_count": null,
      "outputs": []
    },
    {
      "cell_type": "code",
      "source": [
        "## Membulatkan bilangan hingga 1 desimal\n",
        "Distance_matrix.round(decimals=1,out=None).head(5)"
      ],
      "metadata": {
        "id": "AM0f4vFaZjHX"
      },
      "execution_count": null,
      "outputs": []
    },
    {
      "cell_type": "markdown",
      "source": [
        "# Diskritisasi\n",
        "\n",
        "## load data iris dataset\n",
        "\n",
        "## lakukan diskritisasi pada data iris\n"
      ],
      "metadata": {
        "id": "nGQWq_CQiV77"
      }
    },
    {
      "cell_type": "code",
      "source": [
        "import pandas as pd\n",
        "import numpy as np"
      ],
      "metadata": {
        "id": "YAHKYSDCUusl"
      },
      "execution_count": null,
      "outputs": []
    },
    {
      "cell_type": "code",
      "source": [
        "# Create dataset from Google Drive\n",
        "dataset_url = \"https://raw.githubusercontent.com/Nauvaldi/Dataset/main/Iris.csv\"\n",
        "df = pd.read_csv(dataset_url)\n",
        "df"
      ],
      "metadata": {
        "id": "3Y02GFddjIbK"
      },
      "execution_count": null,
      "outputs": []
    },
    {
      "cell_type": "code",
      "source": [
        "from sklearn.preprocessing import KBinsDiscretizer\n",
        "est = KBinsDiscretizer(n_bins=4, encode='ordinal', strategy='uniform')\n",
        "df['SepalLengthCm'] = est.fit_transform(df[['SepalLengthCm']])\n",
        "df['SepalLengthCm']"
      ],
      "metadata": {
        "id": "wd_VsNXcuwcl"
      },
      "execution_count": null,
      "outputs": []
    },
    {
      "cell_type": "code",
      "source": [
        "data1 = pd.DataFrame(df['SepalLengthCm'],columns = ['SepalLengthCm'])\n",
        "data1"
      ],
      "metadata": {
        "id": "bOt2deNRynui"
      },
      "execution_count": null,
      "outputs": []
    },
    {
      "cell_type": "code",
      "source": [
        "from sklearn.preprocessing import KBinsDiscretizer\n",
        "est = KBinsDiscretizer(n_bins=4, encode='ordinal', strategy='uniform')\n",
        "df['SepalWidthCm'] = est.fit_transform(df[['SepalWidthCm']])\n",
        "df['SepalWidthCm']"
      ],
      "metadata": {
        "id": "icJxvHGKzdPu"
      },
      "execution_count": null,
      "outputs": []
    },
    {
      "cell_type": "code",
      "source": [
        "data2 = pd.DataFrame(df['SepalWidthCm'],columns =['SepalWidthCm'])\n",
        "data2"
      ],
      "metadata": {
        "id": "J5QN7SDHskKA"
      },
      "execution_count": null,
      "outputs": []
    },
    {
      "cell_type": "code",
      "source": [
        "from sklearn.preprocessing import KBinsDiscretizer\n",
        "est = KBinsDiscretizer(n_bins=4, encode='ordinal', strategy='uniform')\n",
        "df['PetalLengthCm'] = est.fit_transform(df[['PetalLengthCm']])\n",
        "df['PetalLengthCm']"
      ],
      "metadata": {
        "id": "s2FQDKhN0W-I"
      },
      "execution_count": null,
      "outputs": []
    },
    {
      "cell_type": "code",
      "source": [
        "data3 = pd.DataFrame(df['PetalLengthCm'],columns =['PetalLengthCm'])\n",
        "data3"
      ],
      "metadata": {
        "id": "x7uWcxyr0b6N"
      },
      "execution_count": null,
      "outputs": []
    },
    {
      "cell_type": "code",
      "source": [
        "from sklearn.preprocessing import KBinsDiscretizer\n",
        "est = KBinsDiscretizer(n_bins=4, encode='ordinal', strategy='uniform')\n",
        "df['PetalWidthCm'] = est.fit_transform(df[['PetalWidthCm']])\n",
        "df['PetalWidthCm']"
      ],
      "metadata": {
        "id": "dNJl9hsZ1cZu"
      },
      "execution_count": null,
      "outputs": []
    },
    {
      "cell_type": "code",
      "source": [
        "data4 = pd.DataFrame(df['PetalWidthCm'], columns = ['PetalWidthCm'])\n",
        "data4"
      ],
      "metadata": {
        "id": "6vuqdE911mfJ"
      },
      "execution_count": null,
      "outputs": []
    },
    {
      "cell_type": "code",
      "source": [
        "data = pd.DataFrame(df,columns =['SepalLengthCm','SepalWidthCm','PetalLengthCm','PetalWidthCm'])\n",
        "data"
      ],
      "metadata": {
        "id": "Dt42FZhr1yMX"
      },
      "execution_count": null,
      "outputs": []
    }
  ],
  "metadata": {
    "kernelspec": {
      "display_name": "Python 3",
      "language": "python",
      "name": "python3"
    },
    "language_info": {
      "codemirror_mode": {
        "name": "ipython",
        "version": 3
      },
      "file_extension": ".py",
      "mimetype": "text/x-python",
      "name": "python",
      "nbconvert_exporter": "python",
      "pygments_lexer": "ipython3",
      "version": "3.8.0"
    },
    "colab": {
      "provenance": [],
      "collapsed_sections": [],
      "include_colab_link": true
    }
  },
  "nbformat": 4,
  "nbformat_minor": 0
}